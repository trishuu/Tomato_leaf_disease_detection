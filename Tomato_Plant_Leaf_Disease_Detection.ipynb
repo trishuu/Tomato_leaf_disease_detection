{
  "nbformat": 4,
  "nbformat_minor": 0,
  "metadata": {
    "colab": {
      "name": "Tomato Plant Leaf Disease Detection.ipynb",
      "provenance": [],
      "authorship_tag": "ABX9TyN1MG2cZzRK4gRhhkYruhbP",
      "include_colab_link": true
    },
    "kernelspec": {
      "name": "python3",
      "display_name": "Python 3"
    },
    "accelerator": "GPU"
  },
  "cells": [
    {
      "cell_type": "markdown",
      "metadata": {
        "id": "view-in-github",
        "colab_type": "text"
      },
      "source": [
        "<a href=\"https://colab.research.google.com/github/qaixerabbas/Tomato-Plant-Leaf-Disease-Detection/blob/master/Tomato_Plant_Leaf_Disease_Detection.ipynb\" target=\"_parent\"><img src=\"https://colab.research.google.com/assets/colab-badge.svg\" alt=\"Open In Colab\"/></a>"
      ]
    },
    {
      "cell_type": "code",
      "metadata": {
        "id": "sF8NJ3oa8CFS",
        "colab_type": "code",
        "outputId": "87198b36-3976-46ec-bf5b-5a9a834e65de",
        "colab": {
          "base_uri": "https://localhost:8080/",
          "height": 34
        }
      },
      "source": [
        "from google.colab import drive\n",
        "drive.mount('/content/drive')"
      ],
      "execution_count": 0,
      "outputs": [
        {
          "output_type": "stream",
          "text": [
            "Drive already mounted at /content/drive; to attempt to forcibly remount, call drive.mount(\"/content/drive\", force_remount=True).\n"
          ],
          "name": "stdout"
        }
      ]
    },
    {
      "cell_type": "code",
      "metadata": {
        "id": "eRCqhytU8PXu",
        "colab_type": "code",
        "outputId": "bfe9f5c7-8a38-46bb-c75c-45e35f28603f",
        "colab": {
          "base_uri": "https://localhost:8080/",
          "height": 34
        }
      },
      "source": [
        "%cd /content/drive/'My Drive'/tomato"
      ],
      "execution_count": 0,
      "outputs": [
        {
          "output_type": "stream",
          "text": [
            "/content/drive/My Drive/tomato\n"
          ],
          "name": "stdout"
        }
      ]
    },
    {
      "cell_type": "code",
      "metadata": {
        "id": "Bk9ubF3D8eBI",
        "colab_type": "code",
        "colab": {}
      },
      "source": [
        "#%env CUDA_VISIBLE_DEVICES=2\n",
        "\n",
        "import torch, torchvision\n",
        "from torchvision import datasets, models, transforms\n",
        "import torch.nn as nn\n",
        "import torch.optim as optim\n",
        "from torch.utils.data import DataLoader\n",
        "import time\n",
        "from torchsummary import summary\n",
        "import numpy as np\n",
        "import matplotlib.pyplot as plt\n",
        "import os\n",
        "from PIL import Image\n",
        "from torch.optim import lr_scheduler\n",
        "import copy\n",
        "import shutil  \n",
        "import re  "
      ],
      "execution_count": 0,
      "outputs": []
    },
    {
      "cell_type": "code",
      "metadata": {
        "id": "ZtlCAdnm8g4i",
        "colab_type": "code",
        "colab": {}
      },
      "source": [
        "# Applying Transforms to the Data\n",
        "image_transforms = { \n",
        "    'train': transforms.Compose([\n",
        "        transforms.RandomResizedCrop(size=224, scale=(0.8, 1.0)),\n",
        "        transforms.RandomRotation(degrees=15),\n",
        "        transforms.RandomHorizontalFlip(),\n",
        "        transforms.CenterCrop(size=224),\n",
        "        transforms.ToTensor(),\n",
        "        transforms.Normalize([0.485, 0.456, 0.406],\n",
        "                             [0.229, 0.224, 0.225])\n",
        "    ]),\n",
        "    'valid': transforms.Compose([\n",
        "        transforms.Resize(size=224),\n",
        "        transforms.CenterCrop(size=224),\n",
        "        transforms.RandomRotation(degrees=15),\n",
        "        transforms.RandomHorizontalFlip(),\n",
        "        transforms.ToTensor(),\n",
        "        transforms.Normalize([0.485, 0.456, 0.406],\n",
        "                             [0.229, 0.224, 0.225])\n",
        "    ])\n",
        "}"
      ],
      "execution_count": 0,
      "outputs": []
    },
    {
      "cell_type": "code",
      "metadata": {
        "id": "_WdT6rEY8o_W",
        "colab_type": "code",
        "outputId": "ed618205-3674-4e6a-e5ac-632c47f955c7",
        "colab": {
          "base_uri": "https://localhost:8080/",
          "height": 51
        }
      },
      "source": [
        "# Load the Data\n",
        "\n",
        "# Set train and valid directory paths\n",
        "\n",
        "dataset = './leaf_data/'\n",
        "\n",
        "train_directory = os.path.join(dataset, 'train')\n",
        "valid_directory = os.path.join(dataset, 'val')\n",
        "\n",
        "# Batch size\n",
        "bs = 32\n",
        "\n",
        "# Number of classes\n",
        "num_classes = len(os.listdir(valid_directory))\n",
        "print(num_classes)\n",
        "\n",
        "# Load Data from folders\n",
        "data = {\n",
        "    'train': datasets.ImageFolder(root=train_directory, transform=image_transforms['train']),\n",
        "    'val': datasets.ImageFolder(root=valid_directory, transform=image_transforms['valid'])\n",
        "}\n",
        "\n",
        "# Get a mapping of the indices to the class names, in order to see the output classes of the test images.\n",
        "idx_to_class = {v: k for k, v in data['train'].class_to_idx.items()}\n",
        "print(idx_to_class)\n",
        "\n",
        "# Size of Data, to be used for calculating Average Loss and Accuracy\n",
        "train_data_size = len(data['train'])\n",
        "valid_data_size = len(data['val'])\n",
        "\n",
        "# Create iterators for the Data loaded using DataLoader module\n",
        "train_data_loader = DataLoader(data['train'], batch_size=bs, shuffle=True)\n",
        "valid_data_loader = DataLoader(data['val'], batch_size=bs, shuffle=True)"
      ],
      "execution_count": 0,
      "outputs": [
        {
          "output_type": "stream",
          "text": [
            "5\n",
            "{0: 'bacterial_spot', 1: 'early_bright', 2: 'healthy', 3: 'late_bright', 4: 'target_spot'}\n"
          ],
          "name": "stdout"
        }
      ]
    },
    {
      "cell_type": "code",
      "metadata": {
        "id": "uaAONIMg80RT",
        "colab_type": "code",
        "outputId": "c82c95da-a6b3-45ef-a659-52fb10fb4ead",
        "colab": {
          "base_uri": "https://localhost:8080/",
          "height": 34
        }
      },
      "source": [
        "train_data_size, valid_data_size"
      ],
      "execution_count": 0,
      "outputs": [
        {
          "output_type": "execute_result",
          "data": {
            "text/plain": [
              "(1750, 750)"
            ]
          },
          "metadata": {
            "tags": []
          },
          "execution_count": 20
        }
      ]
    },
    {
      "cell_type": "code",
      "metadata": {
        "id": "yyPHPsBC84lt",
        "colab_type": "code",
        "colab": {}
      },
      "source": [
        "# Load pretrained ResNet18 Model\n",
        "alexnet = models.alexnet(pretrained=True)\n",
        "alexnet = alexnet.to('cuda:0')"
      ],
      "execution_count": 0,
      "outputs": []
    },
    {
      "cell_type": "code",
      "metadata": {
        "id": "BxnDnKJgb0Jk",
        "colab_type": "code",
        "colab": {}
      },
      "source": [
        "# num_ftrs = model_conv.classifier[6].in_features\n",
        "# model_conv.classifier[6].out_features = Output_features\n",
        "\n",
        "# for param in model_conv.classifier[6].parameters():\n",
        "# param.requires_grad = True\n",
        "\n",
        "# if use_gpu:\n",
        "# model_conv = model_conv.cuda()\n",
        "\n",
        "# criterion = nn.CrossEntropyLoss()"
      ],
      "execution_count": 0,
      "outputs": []
    },
    {
      "cell_type": "code",
      "metadata": {
        "id": "s5zBBNQ_9APM",
        "colab_type": "code",
        "colab": {}
      },
      "source": [
        "# Freeze model parameters\n",
        "for param in alexnet.parameters():\n",
        "    param.requires_grad = False"
      ],
      "execution_count": 0,
      "outputs": []
    },
    {
      "cell_type": "code",
      "metadata": {
        "id": "tu5obiPlb_Ub",
        "colab_type": "code",
        "colab": {}
      },
      "source": [
        "num_ftrs = alexnet.classifier[6].in_features"
      ],
      "execution_count": 0,
      "outputs": []
    },
    {
      "cell_type": "code",
      "metadata": {
        "id": "3Tv0SfkIcFM0",
        "colab_type": "code",
        "colab": {}
      },
      "source": [
        "for param in alexnet.classifier[6].parameters():\n",
        "  param.requires_grad = True\n",
        "\n",
        "alexnet = alexnet.to('cuda:0')"
      ],
      "execution_count": 0,
      "outputs": []
    },
    {
      "cell_type": "code",
      "metadata": {
        "id": "qbbgQZq09D1v",
        "colab_type": "code",
        "colab": {}
      },
      "source": [
        "# # # Change the final layer of ResNet18 Model for Transfer Learning\n",
        "# # fc_inputs = resnet18.fc.in_features\n",
        "# alexnet.fc = nn.Sequential(\n",
        "#     nn.Linear(4096, 256),\n",
        "#     nn.ReLU(),\n",
        "#     nn.Dropout(0.4),\n",
        "#     nn.Linear(256, num_classes), # Since 5 classes\n",
        "#     nn.LogSoftmax(dim=1) # For using NLLLoss()\n",
        "# )\n",
        "\n",
        "# # Convert model to be used on GPU\n",
        "# alexnet = alexnet.to('cuda:0')"
      ],
      "execution_count": 0,
      "outputs": []
    },
    {
      "cell_type": "code",
      "metadata": {
        "id": "rHSxDvF39U0Y",
        "colab_type": "code",
        "colab": {}
      },
      "source": [
        "# Define Optimizer and Loss Function\n",
        "loss_func = nn.CrossEntropyLoss()\n",
        "# optimizer = optim.Adam(resnet18.parameters())"
      ],
      "execution_count": 0,
      "outputs": []
    },
    {
      "cell_type": "code",
      "metadata": {
        "id": "FL77fALp9YTI",
        "colab_type": "code",
        "colab": {}
      },
      "source": [
        ""
      ],
      "execution_count": 0,
      "outputs": []
    },
    {
      "cell_type": "code",
      "metadata": {
        "id": "1CUIXsPR9e8O",
        "colab_type": "code",
        "colab": {}
      },
      "source": [
        ""
      ],
      "execution_count": 0,
      "outputs": []
    },
    {
      "cell_type": "code",
      "metadata": {
        "id": "dxY47A809kji",
        "colab_type": "code",
        "colab": {}
      },
      "source": [
        "optimizer = torch.optim.SGD(filter(lambda x: x.requires_grad, alexnet.parameters()), lr=0.001, momentum=0.9)"
      ],
      "execution_count": 0,
      "outputs": []
    },
    {
      "cell_type": "code",
      "metadata": {
        "id": "BiY_Lz-79r9X",
        "colab_type": "code",
        "colab": {}
      },
      "source": [
        "def train_and_validate(model, loss_criterion, optimizer, epochs=25):\n",
        "    '''\n",
        "    Function to train and validate\n",
        "    Parameters\n",
        "        :param model: Model to train and validate\n",
        "        :param loss_criterion: Loss Criterion to minimize\n",
        "        :param optimizer: Optimizer for computing gradients\n",
        "        :param epochs: Number of epochs (default=25)\n",
        "  \n",
        "    Returns\n",
        "        model: Trained Model with best validation accuracy\n",
        "        history: (dict object): Having training loss, accuracy and validation loss, accuracy\n",
        "    '''\n",
        "    \n",
        "    start = time.time()\n",
        "    history = []\n",
        "    best_acc = 0.0\n",
        "\n",
        "    for epoch in range(epochs):\n",
        "        epoch_start = time.time()\n",
        "        print(\"Epoch: {}/{}\".format(epoch+1, epochs))\n",
        "        \n",
        "        # Set to training mode\n",
        "        model.train()\n",
        "        \n",
        "        # Loss and Accuracy within the epoch\n",
        "        train_loss = 0.0\n",
        "        train_acc = 0.0\n",
        "        \n",
        "        valid_loss = 0.0\n",
        "        valid_acc = 0.0\n",
        "        \n",
        "        for i, (inputs, labels) in enumerate(train_data_loader):\n",
        "\n",
        "            inputs = inputs.to(device)\n",
        "            labels = labels.to(device)\n",
        "            \n",
        "            # Clean existing gradients\n",
        "            optimizer.zero_grad()\n",
        "            \n",
        "            # Forward pass - compute outputs on input data using the model\n",
        "            outputs = model(inputs)\n",
        "            \n",
        "            # Compute loss\n",
        "            loss = loss_criterion(outputs, labels)\n",
        "            \n",
        "            # Backpropagate the gradients\n",
        "            loss.backward()\n",
        "            \n",
        "            # Update the parameters\n",
        "            optimizer.step()\n",
        "            \n",
        "            # Compute the total loss for the batch and add it to train_loss\n",
        "            train_loss += loss.item() * inputs.size(0)\n",
        "            \n",
        "            # Compute the accuracy\n",
        "            ret, predictions = torch.max(outputs.data, 1)\n",
        "            correct_counts = predictions.eq(labels.data.view_as(predictions))\n",
        "            \n",
        "            # Convert correct_counts to float and then compute the mean\n",
        "            acc = torch.mean(correct_counts.type(torch.FloatTensor))\n",
        "            \n",
        "            # Compute total accuracy in the whole batch and add to train_acc\n",
        "            train_acc += acc.item() * inputs.size(0)\n",
        "            \n",
        "            #print(\"Batch number: {:03d}, Training: Loss: {:.4f}, Accuracy: {:.4f}\".format(i, loss.item(), acc.item()))\n",
        "\n",
        "            \n",
        "        # Validation - No gradient tracking needed\n",
        "        with torch.no_grad():\n",
        "\n",
        "            # Set to evaluation mode\n",
        "            model.eval()\n",
        "\n",
        "            # Validation loop\n",
        "            for j, (inputs, labels) in enumerate(valid_data_loader):\n",
        "                inputs = inputs.to(device)\n",
        "                labels = labels.to(device)\n",
        "\n",
        "                # Forward pass - compute outputs on input data using the model\n",
        "                outputs = model(inputs)\n",
        "\n",
        "                # Compute loss\n",
        "                loss = loss_criterion(outputs, labels)\n",
        "\n",
        "                # Compute the total loss for the batch and add it to valid_loss\n",
        "                valid_loss += loss.item() * inputs.size(0)\n",
        "\n",
        "                # Calculate validation accuracy\n",
        "                ret, predictions = torch.max(outputs.data, 1)\n",
        "                correct_counts = predictions.eq(labels.data.view_as(predictions))\n",
        "\n",
        "                # Convert correct_counts to float and then compute the mean\n",
        "                acc = torch.mean(correct_counts.type(torch.FloatTensor))\n",
        "\n",
        "                # Compute total accuracy in the whole batch and add to valid_acc\n",
        "                valid_acc += acc.item() * inputs.size(0)\n",
        "\n",
        "                #print(\"Validation Batch number: {:03d}, Validation: Loss: {:.4f}, Accuracy: {:.4f}\".format(j, loss.item(), acc.item()))\n",
        "            \n",
        "        # Find average training loss and training accuracy\n",
        "        avg_train_loss = train_loss/train_data_size \n",
        "        avg_train_acc = train_acc/train_data_size\n",
        "\n",
        "        # Find average training loss and training accuracy\n",
        "        avg_valid_loss = valid_loss/valid_data_size \n",
        "        avg_valid_acc = valid_acc/valid_data_size\n",
        "\n",
        "        history.append([avg_train_loss, avg_valid_loss, avg_train_acc, avg_valid_acc])\n",
        "                \n",
        "        epoch_end = time.time()\n",
        "    \n",
        "        print(\"Epoch : {:03d}, Training: Loss: {:.4f}, Accuracy: {:.4f}%, \\n\\t\\tValidation : Loss : {:.4f}, Accuracy: {:.4f}%, Time: {:.4f}s\".format(epoch, avg_train_loss, avg_train_acc*100, avg_valid_loss, avg_valid_acc*100, epoch_end-epoch_start))\n",
        "        \n",
        "        # Save if the model has best accuracy till now\n",
        "        torch.save(model, dataset+'_model_'+str(epoch)+'.pt')\n",
        "            \n",
        "    return model, history\n",
        "    "
      ],
      "execution_count": 0,
      "outputs": []
    },
    {
      "cell_type": "code",
      "metadata": {
        "id": "yd8-pBle91n6",
        "colab_type": "code",
        "outputId": "c1fa1d15-3edf-469b-99a9-543adae21f14",
        "colab": {
          "base_uri": "https://localhost:8080/",
          "height": 1000
        }
      },
      "source": [
        "device = torch.device(\"cuda:0\" if torch.cuda.is_available() else \"cpu\")\n",
        "\n",
        "# Train the model\n",
        "num_epochs = 30\n",
        "trained_model, history = train_and_validate(alexnet, loss_func, optimizer, num_epochs)\n",
        "\n",
        "torch.save(history, dataset+'_history.pt')"
      ],
      "execution_count": 0,
      "outputs": [
        {
          "output_type": "stream",
          "text": [
            "Epoch: 1/30\n",
            "Epoch : 000, Training: Loss: 2.2447, Accuracy: 53.1429%, \n",
            "\t\tValidation : Loss : 0.5361, Accuracy: 78.8000%, Time: 1479.7506s\n",
            "Epoch: 2/30\n",
            "Epoch : 001, Training: Loss: 0.6260, Accuracy: 76.4571%, \n",
            "\t\tValidation : Loss : 0.4399, Accuracy: 83.6000%, Time: 17.6930s\n",
            "Epoch: 3/30\n",
            "Epoch : 002, Training: Loss: 0.6751, Accuracy: 74.2857%, \n",
            "\t\tValidation : Loss : 0.4310, Accuracy: 83.4667%, Time: 17.1649s\n",
            "Epoch: 4/30\n",
            "Epoch : 003, Training: Loss: 0.5117, Accuracy: 80.8000%, \n",
            "\t\tValidation : Loss : 0.4684, Accuracy: 83.3333%, Time: 17.3465s\n",
            "Epoch: 5/30\n",
            "Epoch : 004, Training: Loss: 0.4841, Accuracy: 81.1429%, \n",
            "\t\tValidation : Loss : 0.3399, Accuracy: 87.2000%, Time: 17.5003s\n",
            "Epoch: 6/30\n",
            "Epoch : 005, Training: Loss: 0.4617, Accuracy: 82.3429%, \n",
            "\t\tValidation : Loss : 0.4250, Accuracy: 83.3333%, Time: 17.3375s\n",
            "Epoch: 7/30\n",
            "Epoch : 006, Training: Loss: 0.4793, Accuracy: 81.9429%, \n",
            "\t\tValidation : Loss : 0.3894, Accuracy: 85.2000%, Time: 17.1163s\n",
            "Epoch: 8/30\n",
            "Epoch : 007, Training: Loss: 0.4470, Accuracy: 84.2857%, \n",
            "\t\tValidation : Loss : 0.3504, Accuracy: 87.3333%, Time: 17.1965s\n",
            "Epoch: 9/30\n",
            "Epoch : 008, Training: Loss: 0.4295, Accuracy: 82.9143%, \n",
            "\t\tValidation : Loss : 0.3911, Accuracy: 85.0667%, Time: 17.2478s\n",
            "Epoch: 10/30\n",
            "Epoch : 009, Training: Loss: 0.4262, Accuracy: 84.0571%, \n",
            "\t\tValidation : Loss : 0.4039, Accuracy: 84.1333%, Time: 17.3275s\n",
            "Epoch: 11/30\n",
            "Epoch : 010, Training: Loss: 0.3995, Accuracy: 84.6857%, \n",
            "\t\tValidation : Loss : 0.3537, Accuracy: 87.2000%, Time: 17.3228s\n",
            "Epoch: 12/30\n",
            "Epoch : 011, Training: Loss: 0.3902, Accuracy: 84.8571%, \n",
            "\t\tValidation : Loss : 0.3938, Accuracy: 85.4667%, Time: 17.2215s\n",
            "Epoch: 13/30\n",
            "Epoch : 012, Training: Loss: 0.4039, Accuracy: 85.2571%, \n",
            "\t\tValidation : Loss : 0.3595, Accuracy: 86.5333%, Time: 17.1941s\n",
            "Epoch: 14/30\n",
            "Epoch : 013, Training: Loss: 0.3896, Accuracy: 85.6000%, \n",
            "\t\tValidation : Loss : 0.2917, Accuracy: 89.6000%, Time: 17.2662s\n",
            "Epoch: 15/30\n",
            "Epoch : 014, Training: Loss: 0.4092, Accuracy: 85.0286%, \n",
            "\t\tValidation : Loss : 0.3289, Accuracy: 87.3333%, Time: 17.3800s\n",
            "Epoch: 16/30\n",
            "Epoch : 015, Training: Loss: 0.3737, Accuracy: 84.8000%, \n",
            "\t\tValidation : Loss : 0.3148, Accuracy: 89.3333%, Time: 17.3107s\n",
            "Epoch: 17/30\n",
            "Epoch : 016, Training: Loss: 0.3988, Accuracy: 85.3143%, \n",
            "\t\tValidation : Loss : 0.3256, Accuracy: 88.4000%, Time: 17.2491s\n",
            "Epoch: 18/30\n",
            "Epoch : 017, Training: Loss: 0.3822, Accuracy: 85.5429%, \n",
            "\t\tValidation : Loss : 0.2491, Accuracy: 91.4667%, Time: 17.4380s\n",
            "Epoch: 19/30\n",
            "Epoch : 018, Training: Loss: 0.3689, Accuracy: 86.9143%, \n",
            "\t\tValidation : Loss : 0.3188, Accuracy: 89.0667%, Time: 17.8575s\n",
            "Epoch: 20/30\n",
            "Epoch : 019, Training: Loss: 0.3721, Accuracy: 86.5143%, \n",
            "\t\tValidation : Loss : 0.3611, Accuracy: 87.3333%, Time: 17.4471s\n",
            "Epoch: 21/30\n",
            "Epoch : 020, Training: Loss: 0.3648, Accuracy: 87.3714%, \n",
            "\t\tValidation : Loss : 0.3963, Accuracy: 85.7333%, Time: 17.6303s\n",
            "Epoch: 22/30\n",
            "Epoch : 021, Training: Loss: 0.3875, Accuracy: 85.7143%, \n",
            "\t\tValidation : Loss : 0.4031, Accuracy: 85.7333%, Time: 17.2612s\n",
            "Epoch: 23/30\n",
            "Epoch : 022, Training: Loss: 0.3679, Accuracy: 85.4857%, \n",
            "\t\tValidation : Loss : 0.3226, Accuracy: 89.2000%, Time: 17.2828s\n",
            "Epoch: 24/30\n",
            "Epoch : 023, Training: Loss: 0.3574, Accuracy: 86.0000%, \n",
            "\t\tValidation : Loss : 0.4798, Accuracy: 82.0000%, Time: 17.1758s\n",
            "Epoch: 25/30\n",
            "Epoch : 024, Training: Loss: 0.3615, Accuracy: 85.9429%, \n",
            "\t\tValidation : Loss : 0.2655, Accuracy: 90.8000%, Time: 17.1980s\n",
            "Epoch: 26/30\n",
            "Epoch : 025, Training: Loss: 0.3459, Accuracy: 86.8000%, \n",
            "\t\tValidation : Loss : 0.3594, Accuracy: 86.9333%, Time: 17.4104s\n",
            "Epoch: 27/30\n",
            "Epoch : 026, Training: Loss: 0.3805, Accuracy: 86.0000%, \n",
            "\t\tValidation : Loss : 0.4725, Accuracy: 81.8667%, Time: 17.2865s\n",
            "Epoch: 28/30\n",
            "Epoch : 027, Training: Loss: 0.4200, Accuracy: 85.5429%, \n",
            "\t\tValidation : Loss : 0.2673, Accuracy: 91.3333%, Time: 17.3640s\n",
            "Epoch: 29/30\n",
            "Epoch : 028, Training: Loss: 0.3413, Accuracy: 87.7714%, \n",
            "\t\tValidation : Loss : 0.2724, Accuracy: 91.0667%, Time: 17.3501s\n",
            "Epoch: 30/30\n",
            "Epoch : 029, Training: Loss: 0.3185, Accuracy: 88.0000%, \n",
            "\t\tValidation : Loss : 0.2901, Accuracy: 90.0000%, Time: 17.3131s\n"
          ],
          "name": "stdout"
        }
      ]
    },
    {
      "cell_type": "code",
      "metadata": {
        "id": "Feeb5JfG-IlN",
        "colab_type": "code",
        "outputId": "943c179d-c982-4b9e-8bda-bdb84e9018d8",
        "colab": {
          "base_uri": "https://localhost:8080/",
          "height": 283
        }
      },
      "source": [
        "import numpy as np\n",
        "history = np.array(history)\n",
        "plt.plot(history[:,0:2])\n",
        "plt.legend(['Tr Loss', 'Val Loss'])\n",
        "plt.xlabel('Epoch Number')\n",
        "plt.ylabel('Loss')\n",
        "plt.ylim(0,1)\n",
        "plt.savefig(dataset+'_loss_curve.png')\n",
        "plt.show()\n"
      ],
      "execution_count": 0,
      "outputs": [
        {
          "output_type": "display_data",
          "data": {
            "image/png": "[encoded data removed]",
            "text/plain": [
              "<Figure size 432x288 with 1 Axes>"
            ]
          },
          "metadata": {
            "tags": [],
            "needs_background": "light"
          }
        }
      ]
    },
    {
      "cell_type": "code",
      "metadata": {
        "id": "-HkgmQ2XE_CE",
        "colab_type": "code",
        "outputId": "c04bf603-d151-4f71-e8e0-738d3877e4ba",
        "colab": {
          "base_uri": "https://localhost:8080/",
          "height": 283
        }
      },
      "source": [
        "plt.plot(history[:,2:4])\n",
        "plt.legend(['Tr Accuracy', 'Val Accuracy'])\n",
        "plt.xlabel('Epoch Number')\n",
        "plt.ylabel('Accuracy')\n",
        "plt.ylim(0,1)\n",
        "plt.savefig(dataset+'_accuracy_curve.png')\n",
        "plt.show()"
      ],
      "execution_count": 0,
      "outputs": [
        {
          "output_type": "display_data",
          "data": {
            "image/png": "[encoded data removed]",
            "text/plain": [
              "<Figure size 432x288 with 1 Axes>"
            ]
          },
          "metadata": {
            "tags": [],
            "needs_background": "light"
          }
        }
      ]
    },
    {
      "cell_type": "code",
      "metadata": {
        "id": "9rajttTyFEKR",
        "colab_type": "code",
        "colab": {}
      },
      "source": [
        "nb_classes = 5\n",
        "\n",
        "confusion_matrix = torch.zeros(nb_classes, nb_classes)\n",
        "with torch.no_grad():\n",
        "    for i, (inputs, classes) in enumerate(valid_data_loader):\n",
        "        inputs = inputs.to(device)\n",
        "        classes = classes.to(device)\n",
        "        outputs = alexnet(inputs)\n",
        "        _, preds = torch.max(outputs, 1)\n",
        "        for t, p in zip(classes.view(-1), preds.view(-1)):\n",
        "                confusion_matrix[t.long(), p.long()] += 1\n"
      ],
      "execution_count": 0,
      "outputs": []
    },
    {
      "cell_type": "code",
      "metadata": {
        "id": "Ou3PX634FeHb",
        "colab_type": "code",
        "outputId": "15174a00-bea8-4c93-ea82-4386e5fa7ad2",
        "colab": {
          "base_uri": "https://localhost:8080/",
          "height": 102
        }
      },
      "source": [
        "print(confusion_matrix)"
      ],
      "execution_count": 0,
      "outputs": [
        {
          "output_type": "stream",
          "text": [
            "tensor([[141.,   3.,   0.,   2.,   4.],\n",
            "        [ 19., 105.,   1.,  14.,  11.],\n",
            "        [  1.,   0., 143.,   0.,   6.],\n",
            "        [  7.,   5.,   0., 136.,   2.],\n",
            "        [  2.,   1.,   1.,   1., 145.]])\n"
          ],
          "name": "stdout"
        }
      ]
    },
    {
      "cell_type": "code",
      "metadata": {
        "id": "UTucVWIbFy1H",
        "colab_type": "code",
        "outputId": "1b2bb5e9-54cb-4b00-8976-a67a65cef1c2",
        "colab": {
          "base_uri": "https://localhost:8080/",
          "height": 34
        }
      },
      "source": [
        "print(confusion_matrix.diag()/confusion_matrix.sum(1))"
      ],
      "execution_count": 0,
      "outputs": [
        {
          "output_type": "stream",
          "text": [
            "tensor([0.9400, 0.7000, 0.9533, 0.9067, 0.9667])\n"
          ],
          "name": "stdout"
        }
      ]
    },
    {
      "cell_type": "code",
      "metadata": {
        "id": "L58eyM5PF-ck",
        "colab_type": "code",
        "colab": {}
      },
      "source": [
        ""
      ],
      "execution_count": 0,
      "outputs": []
    },
    {
      "cell_type": "code",
      "metadata": {
        "id": "veB5DStgGQGS",
        "colab_type": "code",
        "colab": {}
      },
      "source": [
        ""
      ],
      "execution_count": 0,
      "outputs": []
    }
  ]
}